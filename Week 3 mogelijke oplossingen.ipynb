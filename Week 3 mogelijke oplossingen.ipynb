{
 "cells": [
  {
   "cell_type": "markdown",
   "metadata": {},
   "source": [
    "# Comma code: \n",
    "zet commas tussen items in een lijst, met ', and' tussen het laatste en een-na-laatste woord."
   ]
  },
  {
   "cell_type": "code",
   "execution_count": 10,
   "metadata": {},
   "outputs": [],
   "source": [
    "spam = ['apples', 'pears', 'bananas', 'cats']"
   ]
  },
  {
   "cell_type": "code",
   "execution_count": 14,
   "metadata": {},
   "outputs": [
    {
     "name": "stdout",
     "output_type": "stream",
     "text": [
      "['apples', 'pears', 'bananas', 'and and and and cats']\n"
     ]
    }
   ],
   "source": [
    "# ook een oplossing..\n",
    "def commacode(items):\n",
    "    items.insert(-1, ('and ' + items[-1])) # Deze regels veranderen eigenlijk het laatste woord x in 'and x'\n",
    "    del items[-1]                          #\n",
    "    numbers = len(items)\n",
    "    new_string = items[0]\n",
    "    for i in range(1, numbers):\n",
    "        new_string = new_string + ', ' + items[i]\n",
    "    return(spam) # had return kunnen zijn.\n",
    "    \n",
    "print(commacode(spam))"
   ]
  },
  {
   "cell_type": "code",
   "execution_count": null,
   "metadata": {},
   "outputs": [],
   "source": [
    "spam = ['apples', 'pears', 'bananas', 'cats']\n",
    "\n",
    "def listwithand(list):\n",
    "    new_string = ''\n",
    "    for i in list:\n",
    "        new_string += str(i)\n",
    "        if list.index(i) == (len(list)-1): \n",
    "            new_string = new_string\n",
    "        elif list.index(i) == (len(list)-2):\n",
    "            new_string += ', and '\n",
    "        else:\n",
    "            new_string += ', '\n",
    "    return new_string\n",
    "\n",
    "print(listwithand(spam))"
   ]
  },
  {
   "cell_type": "markdown",
   "metadata": {},
   "source": [
    "# Fantasy game inventory"
   ]
  },
  {
   "cell_type": "markdown",
   "metadata": {},
   "source": [
    "Display inventory:\n",
    "De opdracht was hier om iets te schrijven wat je inventory print (soms wil je wel gewoon informatie en gebruik je print - lees goed de opdracht, soms wil je 'return' gebruiken) "
   ]
  },
  {
   "cell_type": "code",
   "execution_count": 30,
   "metadata": {},
   "outputs": [
    {
     "name": "stdout",
     "output_type": "stream",
     "text": [
      "Inventory:\n",
      "1 rope\n",
      "6 torch\n",
      "42 gold coin\n",
      "1 dagger\n",
      "12 arrow\n",
      "Total number of items: 62\n"
     ]
    }
   ],
   "source": [
    "#ook een oplossing:\n",
    "stuff = {'rope': 1, 'torch': 6, 'gold coin': 42, 'dagger': 1, 'arrow': 12}\n",
    "def displayInventory(input_inventory):\n",
    "    total_number_items = 0\n",
    "    for v in input_inventory.values():  #.values() is een Method van dictionary objects.\n",
    "        total_number_items += int(v)\n",
    "    \n",
    "    print(\"Inventory:\")\n",
    "    for k,v in input_inventory.items():  #.items()  is een Method van dictionary objects. \n",
    "        print(str(v) + \" \" + str(k))\n",
    "        \n",
    "    print(\"Total number of items: \" + str(total_number_items))  # \n",
    "    \n",
    "displayInventory(stuff)"
   ]
  },
  {
   "cell_type": "markdown",
   "metadata": {},
   "source": [
    "Fantasy inventory - adding things:\n",
    "\n",
    "Write a function named addToInventory(inventory, addedItems), where the\n",
    "inventory parameter is a dictionary representing the player’s inventory (like\n",
    "in the previous project) and the addedItems parameter is a list like dragonLoot.\n",
    "The addToInventory() function should return a dictionary that represents the\n",
    "updated inventory. Note that the addedItems list can contain multiples of the\n",
    "same item."
   ]
  },
  {
   "cell_type": "code",
   "execution_count": 28,
   "metadata": {},
   "outputs": [],
   "source": [
    "def addToInventory(inventory, addedItems):\n",
    "    for item in addedItems:\n",
    "        inventory.setdefault(item,0) #dit voegt een 'key' toe aan het dictionary als deze er nog niet is (met 0 als value)\n",
    "        inventory[item] += 1 #and this increases that value by one, each time that item appears in the loot list\n",
    "    return inventory"
   ]
  },
  {
   "cell_type": "code",
   "execution_count": 29,
   "metadata": {},
   "outputs": [
    {
     "name": "stdout",
     "output_type": "stream",
     "text": [
      "Inventory:\n",
      "42 gold coin\n",
      "1 rope\n",
      "Total number of items: 43\n",
      "----------------------\n",
      "adding dragonLoot....:\n",
      " \n",
      "Inventory:\n",
      "45 gold coin\n",
      "1 rope\n",
      "1 dagger\n",
      "1 ruby\n",
      "Total number of items: 48\n"
     ]
    }
   ],
   "source": [
    "#Staring inventory\n",
    "inv = {'gold coin': 42, 'rope': 1}\n",
    "displayInventory(inv)\n",
    "print('----------------------')\n",
    "\n",
    "\n",
    "dragonLoot = ['gold coin', 'dagger', 'gold coin', 'gold coin', 'ruby']\n",
    "print('adding dragonLoot....:')\n",
    "print(' ')\n",
    "\n",
    "#Adding loot\n",
    "inv = addToInventory(inv, dragonLoot)\n",
    "displayInventory(inv)"
   ]
  }
 ],
 "metadata": {
  "kernelspec": {
   "display_name": "Python 3",
   "language": "python",
   "name": "python3"
  },
  "language_info": {
   "codemirror_mode": {
    "name": "ipython",
    "version": 3
   },
   "file_extension": ".py",
   "mimetype": "text/x-python",
   "name": "python",
   "nbconvert_exporter": "python",
   "pygments_lexer": "ipython3",
   "version": "3.7.3"
  }
 },
 "nbformat": 4,
 "nbformat_minor": 4
}
